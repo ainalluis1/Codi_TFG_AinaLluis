{
 "cells": [
  {
   "cell_type": "markdown",
   "id": "bc9276b2-76c7-4339-bb72-610830276fae",
   "metadata": {},
   "source": [
    "Aina Lluis Huelmo, Estadística Aplicada"
   ]
  },
  {
   "cell_type": "markdown",
   "id": "eb033ea1",
   "metadata": {},
   "source": [
    "# CODI DE PROGRAMACIÓ TFG"
   ]
  },
  {
   "cell_type": "code",
   "execution_count": null,
   "id": "7d1bdf97",
   "metadata": {},
   "outputs": [],
   "source": [
    "import pandas as pd\n",
    "import numpy as np\n",
    "from sklearn.model_selection import train_test_split\n",
    "from sklearn.tree import DecisionTreeClassifier\n",
    "from sklearn.metrics import confusion_matrix, classification_report\n",
    "from sklearn.preprocessing import LabelEncoder\n",
    "from sklearn.model_selection import GridSearchCV\n",
    "import matplotlib.pyplot as plt"
   ]
  },
  {
   "cell_type": "code",
   "execution_count": null,
   "id": "a6cbeffa",
   "metadata": {},
   "outputs": [],
   "source": [
    "data = pd.read_csv(\"dades.csv\")"
   ]
  },
  {
   "cell_type": "code",
   "execution_count": null,
   "id": "b7246b81",
   "metadata": {},
   "outputs": [],
   "source": [
    "print(\"Dimensions del data set:\", data.shape)"
   ]
  },
  {
   "cell_type": "code",
   "execution_count": null,
   "id": "2af7956f",
   "metadata": {},
   "outputs": [],
   "source": [
    "data.head()"
   ]
  },
  {
   "cell_type": "markdown",
   "id": "e1eaec8e",
   "metadata": {},
   "source": [
    "**ELIMINACIÓ DE VARIABLES**"
   ]
  },
  {
   "cell_type": "markdown",
   "id": "bda192e5",
   "metadata": {},
   "source": [
    "Ara podem treure la primera i la segona columna de la base de dades ja que no són útil per a l'estudi que volem fer:"
   ]
  },
  {
   "cell_type": "code",
   "execution_count": null,
   "id": "8c9f7530",
   "metadata": {},
   "outputs": [],
   "source": [
    "data=data.drop([\"Unnamed: 0\",\"id\"],axis=1)\n",
    "data.head()"
   ]
  },
  {
   "cell_type": "markdown",
   "id": "139e607b",
   "metadata": {},
   "source": [
    "**VALORS FALTANTS**"
   ]
  },
  {
   "cell_type": "code",
   "execution_count": null,
   "id": "8070391f-97bd-4ade-813d-9068e4c6bea3",
   "metadata": {},
   "outputs": [],
   "source": [
    "valors_faltants_per_variable = data.isna().sum()\n",
    "\n",
    "print(\"Número de valors faltants per cada variable:\")\n",
    "print(valors_faltants_per_variable)"
   ]
  },
  {
   "cell_type": "markdown",
   "id": "f163d9c5-8901-482c-a1b6-4e184a43e944",
   "metadata": {},
   "source": [
    "En aquest cas podem veure que la variable que té valors faltants és la que ens indica els minuts de retràs en l'arribada del vol: Arrival Delay in Minutes. En aquesta variable haurem d'aplicar algún mètode d'imputació per tal de no tenir valors faltants. "
   ]
  },
  {
   "cell_type": "markdown",
   "id": "85185560-4eca-47a4-8cf0-7cbdc9774063",
   "metadata": {},
   "source": [
    "Farem imputació múltiple per aquesta variable i per tant hem de crear un model per predir els valors d'aquesta i substituir els valors faltants per la predicció que obtinguem."
   ]
  },
  {
   "cell_type": "markdown",
   "id": "b7d89d9a-ddc8-4072-9bb6-ea6b850dc2a6",
   "metadata": {},
   "source": [
    "I ara ja podem fer el model per imputar les dades:"
   ]
  },
  {
   "cell_type": "markdown",
   "id": "3e6659a8-39f0-4a75-bae5-1edebd84967a",
   "metadata": {},
   "source": [
    "IMPUTACIÓ"
   ]
  },
  {
   "cell_type": "code",
   "execution_count": null,
   "id": "2e35731a-69d1-4e9e-a98b-1fd6f4f39d59",
   "metadata": {},
   "outputs": [],
   "source": [
    "from sklearn.experimental import enable_iterative_imputer  # noqa\n",
    "from sklearn.impute import IterativeImputer\n",
    "from sklearn.compose import ColumnTransformer\n",
    "from sklearn.preprocessing import OneHotEncoder\n",
    "from sklearn.pipeline import Pipeline\n",
    "\n",
    "selected_features = data.columns.tolist()\n",
    "selected_features.remove('satisfaction')\n",
    "\n",
    "numeric_vars = data[selected_features].select_dtypes(include=['int64', 'float64']).columns\n",
    "categorical_vars = data[selected_features].select_dtypes(include=['object', 'category']).columns\n",
    "\n",
    "preprocessor_selected = ColumnTransformer(\n",
    "    transformers=[\n",
    "        ('cat', OneHotEncoder(handle_unknown='ignore'), categorical_vars)\n",
    "    ],\n",
    "    remainder='passthrough'  \n",
    ")\n",
    "\n",
    "pipeline = Pipeline(steps=[\n",
    "    ('preprocessor', preprocessor_selected),\n",
    "    ('imputer', IterativeImputer(random_state=410))\n",
    "])\n",
    "\n",
    "data_processed = pipeline.fit_transform(data[selected_features])\n",
    "\n",
    "dades = pd.DataFrame(\n",
    "    data_processed,\n",
    "    columns=pipeline.named_steps['preprocessor'].get_feature_names_out(),\n",
    "    index=data.index\n",
    ")\n",
    "\n",
    "dades['satisfaction'] = data['satisfaction']\n",
    "print(dades.isnull().sum())"
   ]
  },
  {
   "cell_type": "markdown",
   "id": "6301d94e-c4b7-4afe-9fd6-7ae452f842dc",
   "metadata": {},
   "source": [
    "## ANÀLISI DESCRIPTIVA:"
   ]
  },
  {
   "cell_type": "code",
   "execution_count": null,
   "id": "cf1cacbc",
   "metadata": {},
   "outputs": [],
   "source": [
    "data.dtypes"
   ]
  },
  {
   "cell_type": "code",
   "execution_count": null,
   "id": "3ea9ba8a",
   "metadata": {
    "scrolled": true
   },
   "outputs": [],
   "source": [
    "data.describe()"
   ]
  },
  {
   "cell_type": "markdown",
   "id": "d49ad631",
   "metadata": {},
   "source": [
    "**-Age:** representa l'edat dels passatgers, amb un rang que va desde 7 fins a 85 anys. La mitjana d'edat és d'aproximadament 39.62 anys, amb una desviació estàndard aproximadament de 15.13, el que indica una certa variabilitat en les edats. Si féssim un anàlisi d'aquesta variable podriem veure com varia la satisfacció dels clients segons l'edat del passatger. \n",
    "\n",
    "**-Flight Distance:** representa la distància de vol per a cada passatger, que varia desde 31 milles fins a 4983 milles. La distància mitjana és aproximadament 1193.79 milles, amb una desviació estàndard aproximada de 998.68, cosa que indica una gran varietat en aquesta variable. Per tant, això ens podria fer pensar que aquesta variable té influència en la satisfacció dels clients. \n",
    "\n",
    "**-Inflight wifi service, Departure/Arrival time convenient, Ease of Online booking,etc:** aquestes columnes representen el grau de satisfacció en els diferents aspectes del servei de l'aerolínia. Cada una te una puntuació que varia del 0 al 5. Amb aquesta informació podriem saber quins aspectes del servei estan més relacionats amb la satisfacció dels passatger i com es distribueixen aquestes qualificacions\n",
    "\n",
    "**- Departure Delay in minutes:** ens indica la quantitat de minuts de retras en la hora de sortida, amb un valor mínim de 0 minuts i un valor màxim de 1128 minuts. Tal i com podem veure, el tercer quantil es troba en 12 minuts de retard, per tant, la majoria d'aquestes dades pertanyen a un vol amb pocs minuts de retard. Amb l'anàlisi d'aquesta podriem veure com afecten els retrassos en la satisfacció dels clients. \n",
    "\n",
    "**- Arrival Delay in minutes:** és similar a la variable anterior però aquesta es refereix als minuts de retard en l'hora d'arribada del vol. La mediana és de 0 minuts, el que ens diu que almenys la meitat dels vols d'aquesta base de dades van arribar a temps. El màxim és de 1115 minuts, cosa que ens fa pensar que hi ha vols amb retrassos significatius. Igual que hem comentat en l'anterior, això ens pot ajudar a veure l'impacte de la puntualitat en la satisfacció dels passatgers. "
   ]
  },
  {
   "cell_type": "code",
   "execution_count": null,
   "id": "58b2d150",
   "metadata": {},
   "outputs": [],
   "source": [
    "categorical_variables = ['Gender', 'Customer Type', 'Type of Travel', 'Class', 'satisfaction']\n",
    "\n",
    "for variable in categorical_variables:\n",
    "    category_counts = data[variable].value_counts()\n",
    "    print(f\"Categorías en {variable}:\")\n",
    "    print(category_counts)\n",
    "    print()"
   ]
  },
  {
   "cell_type": "markdown",
   "id": "1493f31e",
   "metadata": {},
   "source": [
    "**Gender:** podem observar que les dues categories possibles son \"Female\" i \"Male\". El resultat ens mostra que hi ha 13172 passatgers de gènere femení i 12804 passatgers de gènere masculi en la nostra base de dades. Això ens proporciona una visió de la distribució de gènere en el conjunt de dades. \n",
    "\n",
    "**Customer Type (Tipus de Client):** en aquesta variable es distingeixen també dues categories \"Loyal Customer\" y \"disloyal Customer\". Podem veure que hi ha 21177 clients leals i 4799 clients desleals en el data set. Això ens dona informació per entendre la lleialtat dels clients.\n",
    "\n",
    "**Type of Travel (Tipus de Viaje):** podem diferenciar també dues categories: \"Business travel\" i \"Personal Travel\". L'ànalisi mostra que hiha 18038 passatgers que viatjaven per negocis i 7938 que viatjaven per oci o motius personals.\n",
    "\n",
    "**Class:** per la variable \"Class,\" trobem tres categories: \"Business\", \"Eco\" i \"Eco Plus.\" En aquest cas podem veure que 12495 son de classe bussiness, 11564 de classe econòmica (eco) i 1917 de classe econòmica premium (Eco Plus).\n",
    "\n",
    "**Satisfaction (Satisfacció):** La variable Satisfaction consta de dues categories possibles: \"neutral or dissatisfied\" i \"satisfied\". Podem veure que hi ha 14573 passatgers en la categoria de neutral o insatisfet mentre que hih a 11403 clients que han estat satisfets. "
   ]
  },
  {
   "cell_type": "code",
   "execution_count": null,
   "id": "33c3fa67-65c7-4288-8785-a3469d4eb644",
   "metadata": {},
   "outputs": [],
   "source": [
    "numeric_vars = data.select_dtypes(include=['int64', 'float64']).columns\n",
    "categorical_vars = data.select_dtypes(include=['object']).columns"
   ]
  },
  {
   "cell_type": "code",
   "execution_count": null,
   "id": "5a152ca7-62c5-45b6-9f55-b9dba3dc0196",
   "metadata": {},
   "outputs": [],
   "source": [
    "column_names = data.columns\n",
    "\n",
    "print(column_names)"
   ]
  },
  {
   "cell_type": "code",
   "execution_count": null,
   "id": "6e996a3c-fc73-4256-bf7b-cea50f5b1d9e",
   "metadata": {},
   "outputs": [],
   "source": [
    "import matplotlib.pyplot as plt\n",
    "\n",
    "variables = ['Inflight wifi service',\n",
    "       'Departure/Arrival time convenient', 'Ease of Online booking',\n",
    "       'Gate location', 'Food and drink', 'Online boarding', 'Seat comfort',\n",
    "       'Inflight entertainment', 'On-board service', 'Leg room service',\n",
    "       'Baggage handling', 'Checkin service', 'Inflight service',\n",
    "       'Cleanliness']\n",
    "\n",
    "plt.figure(figsize=(10, 6))\n",
    "plt.subplots_adjust(left=0.3, top=0.9)\n",
    "\n",
    "boxes = plt.boxplot(data[variables], patch_artist=True, widths=0.7, vert=True)  # Cambiar color a rosa clarito\n",
    "\n",
    "for box in boxes['boxes']:\n",
    "    box.set(color='#FA8072')\n",
    "\n",
    "plt.title(\"Boxplots de les variables\")\n",
    "plt.ylabel(\"Valoració\")\n",
    "plt.xticks(range(1, len(variables) + 1), variables, rotation=90)\n",
    "\n",
    "plt.show()"
   ]
  },
  {
   "cell_type": "code",
   "execution_count": null,
   "id": "e6948daf-1879-48b0-bb46-570ee1306bd3",
   "metadata": {},
   "outputs": [],
   "source": [
    "import seaborn as sns\n",
    "import matplotlib.pyplot as plt\n",
    "\n",
    "sns.set(style=\"whitegrid\")  \n",
    "\n",
    "pink = \"#FA8072\"\n",
    "\n",
    "for col in numeric_vars:\n",
    "    plt.figure(figsize=(10, 6))\n",
    "    sns.histplot(data[col], kde=True, bins=30, color=pink)\n",
    "    plt.title(f'Distribución de la variable {col}')\n",
    "    plt.xlabel(col)\n",
    "    plt.ylabel('Frecuencia')\n",
    "    plt.show()\n",
    "\n",
    "import seaborn as sns\n",
    "import matplotlib.pyplot as plt\n",
    "\n",
    "sns.set(style=\"whitegrid\")  \n",
    "pink = \"#FA8072\"\n",
    "\n",
    "for col in categorical_vars:\n",
    "    plt.figure(figsize=(10, 6))\n",
    "    ax = sns.countplot(y=col, data=data, order=data[col].value_counts().index, color=pink)\n",
    "    plt.title(f'Distribució de la variable {col}')\n",
    "    plt.xlabel('Freqüència')\n",
    "    plt.ylabel(col)\n",
    "\n",
    "    total = len(data[col])\n",
    "    for p in ax.patches:\n",
    "        percentage = '{:.1f}%'.format(100 * p.get_width() / total)\n",
    "        x = p.get_width() + 0.02\n",
    "        y = p.get_y() + p.get_height() / 2\n",
    "        ax.annotate(percentage, (x, y))\n",
    "\n",
    "    plt.show()"
   ]
  },
  {
   "cell_type": "code",
   "execution_count": null,
   "id": "6b727142",
   "metadata": {},
   "outputs": [],
   "source": [
    "data.plot(subplots =True, kind = 'box', layout = (5,4), figsize = (20,18), color = 'black')"
   ]
  },
  {
   "cell_type": "markdown",
   "id": "aa27d4c6",
   "metadata": {},
   "source": [
    "Veiem que hi ha tres variables amb valors outliers: \"Flight Distance\" \"Departure Delay\" i \"Arrival Delay\". Ara analitzarem les variables per comprovar la importància dels outliers:"
   ]
  },
  {
   "cell_type": "code",
   "execution_count": null,
   "id": "98e3c0f8-d2d8-4a08-b7d1-7f2ee46b7413",
   "metadata": {},
   "outputs": [],
   "source": [
    "import matplotlib.pyplot as plt\n",
    "import seaborn as sns\n",
    "\n",
    "def plot_violin_with_boxplot(data, variable):\n",
    "    plt.figure(figsize=(8, 6))\n",
    "\n",
    "    sns.violinplot(data=data, y=variable, color='#FA8072', linewidth=2, edgecolor='black', inner='box')\n",
    "    plt.xlabel(variable)\n",
    "    plt.title('Violin Plot amb Boxplot per la variable {}'.format(variable))\n",
    "\n",
    "    plt.tight_layout()\n",
    "    plt.show()\n",
    "\n",
    "plot_violin_with_boxplot(data, 'Age')\n",
    "plot_violin_with_boxplot(data, 'Flight Distance')\n",
    "plot_violin_with_boxplot(data, 'Departure Delay in Minutes')\n",
    "plot_violin_with_boxplot(data, 'Arrival Delay in Minutes')"
   ]
  },
  {
   "cell_type": "markdown",
   "id": "0159bae6",
   "metadata": {},
   "source": [
    "## ESTADÍSTICA GENERAL"
   ]
  },
  {
   "cell_type": "code",
   "execution_count": null,
   "id": "8f471ee5",
   "metadata": {},
   "outputs": [],
   "source": [
    "columnas_interes = ['Age', 'Flight Distance', 'Departure Delay in Minutes', 'Arrival Delay in Minutes', 'Ease of Online booking',\n",
    "                    'Checkin service', 'Online boarding', 'Gate location', 'On-board service', 'Seat comfort',\n",
    "                    'Leg room service', 'Cleanliness', 'Food and drink', 'Inflight service',\n",
    "                    'Inflight wifi service', 'Inflight entertainment', 'Baggage handling']\n",
    "\n",
    "estadisticas_df = pd.DataFrame({\n",
    "    'MITJANA': data[columnas_interes].mean(),\n",
    "    'MÀXIM': data[columnas_interes].max(),\n",
    "    'MÍNIM': data[columnas_interes].min(),\n",
    "    'DESVIACIÓ ESTÀNDARD': data[columnas_interes].std(),\n",
    "    'VARIANÇA': data[columnas_interes].var()\n",
    "})\n",
    "print(estadisticas_df)"
   ]
  },
  {
   "cell_type": "markdown",
   "id": "957bc0ad-29f7-4f47-8a3a-507b149a1958",
   "metadata": {},
   "source": [
    "## ANÀLISI MULTIVARIANT"
   ]
  },
  {
   "cell_type": "markdown",
   "id": "cbf6351b-4fa3-4409-8709-8105830fb472",
   "metadata": {},
   "source": [
    "VARIABLES NUMERIQUES VS NUMERIQUES"
   ]
  },
  {
   "cell_type": "code",
   "execution_count": null,
   "id": "a6923455-39ca-432e-8523-3a9ff8edb1f8",
   "metadata": {},
   "outputs": [],
   "source": [
    "import seaborn as sns\n",
    "import matplotlib.pyplot as plt\n",
    "\n",
    "numeric_columns = ['Age', 'Flight Distance', 'Departure Delay in Minutes', 'Arrival Delay in Minutes']\n",
    "numeric_data = data[numeric_columns]\n",
    "correlation_matrix = numeric_data.corr().round(3)\n",
    "\n",
    "\n",
    "sns.pairplot(numeric_data, plot_kws={'color': '#FA8072'}, diag_kws={'color': '#FA8072'})\n",
    "plt.suptitle('Scatter Plots per a variables numèriques', y=1.02)  # Adjust title position\n",
    "plt.show()\n",
    "\n",
    "correlation_matrix"
   ]
  },
  {
   "cell_type": "code",
   "execution_count": null,
   "id": "085db867-87d6-4879-891a-809b90909cef",
   "metadata": {},
   "outputs": [],
   "source": [
    "import seaborn as sns\n",
    "import matplotlib.pyplot as plt\n",
    "\n",
    "numeric_columns = ['Age', 'Flight Distance', 'Departure Delay in Minutes', 'Arrival Delay in Minutes']\n",
    "numeric_data = data[numeric_columns]\n",
    "\n",
    "correlation_matrix = numeric_data.corr().round(3)  \n",
    "\n",
    "sns.pairplot(numeric_data, \n",
    "             plot_kws={'color': '#FA8072'}, \n",
    "             diag_kws={'color': '#FA8072'}, \n",
    "             diag_kind='kde')\n",
    "\n",
    "plt.suptitle('Scatter Plots per a variables numèriques', y=1.02)  \n",
    "plt.show()"
   ]
  },
  {
   "cell_type": "code",
   "execution_count": null,
   "id": "e6300ba8-1ea2-4da2-b089-c59f1e8c4702",
   "metadata": {},
   "outputs": [],
   "source": [
    "import pandas as pd\n",
    "contingency_table = pd.crosstab(data['Age'], data['Gender'])\n",
    "\n",
    "from scipy.stats import chi2_contingency\n",
    "\n",
    "chi2, p, dof, expected = chi2_contingency(contingency_table)\n",
    "\n",
    "print(\"Estadística de chi-cuadrado:\", chi2)\n",
    "print(\"p-valor:\", p)\n",
    "print(\"Grados de libertad:\", dof)\n",
    "print(\"Frecuencias esperadas:\")"
   ]
  },
  {
   "cell_type": "code",
   "execution_count": null,
   "id": "7075a38c-e5fc-42c5-895e-d220a832c014",
   "metadata": {},
   "outputs": [],
   "source": [
    "from scipy.stats import chi2_contingency\n",
    "\n",
    "contingency_table = pd.crosstab(data['Inflight wifi service'], data['Customer Type'])\n",
    "chi2, p_value, dof, expected = chi2_contingency(contingency_table)\n",
    "contingency_table, chi2, p_value"
   ]
  },
  {
   "cell_type": "code",
   "execution_count": null,
   "id": "ff6037bb-0fe7-4d1c-b51c-1bfe850bb5b9",
   "metadata": {},
   "outputs": [],
   "source": [
    "discrete_vars = [col for col in numeric_data.columns if len(numeric_data[col].unique()) < 10]\n",
    "categorical_vars = data.select_dtypes(include=['object']).columns.tolist()\n",
    "\n",
    "discrete_vars, categorical_vars"
   ]
  },
  {
   "cell_type": "markdown",
   "id": "f538d9c6-9887-48b0-87b4-ded0eeced198",
   "metadata": {},
   "source": [
    "VARIABLES NUMÈRIQUES VS CATEGÒRIQUES"
   ]
  },
  {
   "cell_type": "code",
   "execution_count": null,
   "id": "63d401e3-46cf-4005-9c6e-0083e742e80f",
   "metadata": {},
   "outputs": [],
   "source": [
    "discrete_numeric_vars = [\n",
    "    'Inflight wifi service', 'Departure/Arrival time convenient', 'Ease of Online booking',\n",
    "    'Gate location', 'Food and drink', 'Online boarding', 'Seat comfort',\n",
    "    'Inflight entertainment', 'On-board service', 'Leg room service', 'Baggage handling',\n",
    "    'Checkin service', 'Inflight service', 'Cleanliness'\n",
    "]\n",
    "\n",
    "categorical_vars = ['Gender', 'Customer Type', 'Type of Travel', 'Class', 'satisfaction']\n",
    "\n",
    "from scipy.stats import chi2_contingency\n",
    "\n",
    "fig, axes = plt.subplots(nrows=len(discrete_numeric_vars), ncols=len(categorical_vars), figsize=(18, 50))\n",
    "\n",
    "for i, num_var in enumerate(discrete_numeric_vars):\n",
    "    for j, cat_var in enumerate(categorical_vars):\n",
    "        contingency_table = pd.crosstab(data[num_var], data[cat_var])\n",
    "        chi2, p_value, dof, expected = chi2_contingency(contingency_table)\n",
    "        sns.countplot(x=num_var, hue=cat_var, data=data, ax=axes[i, j])\n",
    "        axes[i, j].set_title(f'{num_var} vs {cat_var}\\nChi2: {chi2:.2f}, p-value: {p_value:.2e}')\n",
    "        axes[i, j].legend(title=cat_var, bbox_to_anchor=(1.05, 1), loc='upper left')\n",
    "\n",
    "plt.tight_layout()\n",
    "plt.show()\n"
   ]
  },
  {
   "cell_type": "code",
   "execution_count": null,
   "id": "a4789859-57ba-4b1d-bb4b-d3f24f36abb2",
   "metadata": {},
   "outputs": [],
   "source": [
    "import matplotlib.pyplot as plt\n",
    "import seaborn as sns\n",
    "import pandas as pd\n",
    "from scipy.stats import chi2_contingency\n",
    "\n",
    "colors = ['#FA8072', 'skyblue']\n",
    "custom_palette = sns.set_palette(sns.color_palette(colors))\n",
    "\n",
    "for num_var in discrete_numeric_vars:\n",
    "    for cat_var in categorical_vars:\n",
    "        plt.figure(figsize=(10, 6))\n",
    "        contingency_table = pd.crosstab(data[num_var], data[cat_var])\n",
    "        chi2, p_value, dof, expected = chi2_contingency(contingency_table)\n",
    "        sns.countplot(x=num_var, hue=cat_var, data=data, palette=custom_palette)\n",
    "        plt.title(f'{num_var} vs {cat_var}\\nChi2: {chi2:.2f}, p-value: {p_value:.2e}')\n",
    "        plt.legend(title=cat_var, bbox_to_anchor=(1.05, 1), loc='upper left')\n",
    "        plt.show()\n"
   ]
  },
  {
   "cell_type": "markdown",
   "id": "58edb0e1-b008-4cb3-9677-79db14f77b4b",
   "metadata": {},
   "source": [
    "VARIABLES CATEGÒRIQUES VS CATEGÒRIQUES"
   ]
  },
  {
   "cell_type": "code",
   "execution_count": null,
   "id": "0ea7d384-b865-4438-a1f6-2b51ac9ed90d",
   "metadata": {},
   "outputs": [],
   "source": [
    "from statsmodels.graphics.mosaicplot import mosaic\n",
    "from scipy.stats import chi2_contingency\n",
    "\n",
    "color_scheme_updated = {\n",
    "    'Male': 'skyblue',  \n",
    "    'Female': '#FA8072',  \n",
    "    'Loyal Customer': '#FA8072',  \n",
    "    'disloyal Customer': 'skyblue',  \n",
    "    'Business travel': 'skyblue',  \n",
    "    'Personal Travel': '#FA8072',  \n",
    "    'Eco': 'skyblue',  \n",
    "    'Eco Plus': 'skyblue',  \n",
    "    'Business': '#0000FF',  \n",
    "    'satisfied': 'skyblue',  \n",
    "    'neutral or dissatisfied': '#FA8072'  \n",
    "}\n",
    "\n",
    "combinations = [\n",
    "    ('Gender', 'Customer Type'),\n",
    "    ('Gender', 'Type of Travel'),\n",
    "    ('Gender', 'Class'),\n",
    "    ('Gender', 'satisfaction'),\n",
    "    ('Customer Type', 'Type of Travel'),\n",
    "    ('Customer Type', 'Class'),\n",
    "    ('Customer Type', 'satisfaction'),\n",
    "    ('Type of Travel', 'Class'),\n",
    "    ('Type of Travel', 'satisfaction'),\n",
    "    ('Class', 'satisfaction')\n",
    "]\n",
    "\n",
    "\n",
    "def mosaic_and_chi2_test_corrected_colors(df, cat_var1, cat_var2, colors):\n",
    "    crosstab = pd.crosstab(df[cat_var1], df[cat_var2])\n",
    "    plt.figure(figsize=(10, 6))\n",
    "    props = lambda key: {'color': colors.get(key[1], 'white')}  # Use key[1] to match the right part of the pair\n",
    "    mosaic(df, [cat_var1, cat_var2], properties=props, title=f'Mosaic Plot: {cat_var1} vs {cat_var2}', gap=0.02)\n",
    "    plt.show()\n",
    "    \n",
    "    chi2, p, dof, _ = chi2_contingency(crosstab)\n",
    "    return chi2, p\n",
    "\n",
    "results_corrected_colors = {}\n",
    "for cat_var1, cat_var2 in combinations:\n",
    "    chi2, p = mosaic_and_chi2_test_corrected_colors(data, cat_var1, cat_var2, color_scheme_updated)\n",
    "    results_corrected_colors[f'{cat_var1} vs {cat_var2}'] = {'Chi2': chi2, 'p-value': p}\n",
    "\n",
    "results_corrected_colors\n"
   ]
  },
  {
   "cell_type": "markdown",
   "id": "e7fcdf38-2dc9-4ecf-89ab-0b17c7eda5f4",
   "metadata": {},
   "source": [
    "VARIABLES NUMÈRIQUES CONTÍNUES I CATEGÒRIQUES"
   ]
  },
  {
   "cell_type": "code",
   "execution_count": null,
   "id": "fe363189-246c-435a-bc72-063de0070f39",
   "metadata": {},
   "outputs": [],
   "source": [
    "import seaborn as sns\n",
    "import matplotlib.pyplot as plt\n",
    "from scipy.stats import f_oneway, ttest_ind\n",
    "def analyze_numeric_categorical_custom_colors(df, numeric_var, categorical_var, palette):\n",
    "    plt.figure(figsize=(10, 6))\n",
    "    sns.boxplot(x=categorical_var, y=numeric_var, data=df, palette=palette)\n",
    "    plt.title(f'Boxplot of {numeric_var} by {categorical_var}')\n",
    "    plt.show()\n",
    "    \n",
    "    categories = df[categorical_var].unique()\n",
    "    \n",
    "    if len(categories) > 2:\n",
    "        groups = [df[df[categorical_var] == cat][numeric_var] for cat in categories]\n",
    "        f_stat, p_value = f_oneway(*groups)\n",
    "        test = \"ANOVA\"\n",
    "    else:\n",
    "        group1 = df[df[categorical_var] == categories[0]][numeric_var]\n",
    "        group2 = df[df[categorical_var] == categories[1]][numeric_var]\n",
    "        t_stat, p_value = ttest_ind(group1, group2)\n",
    "        test = \"T-test\"\n",
    "    \n",
    "    return test, p_value\n",
    "\n",
    "custom_palette = {\n",
    "    'Male': '#FA8072', \n",
    "    'Female': '#FA8072', \n",
    "    'Loyal Customer': '#FA8072', \n",
    "    'disloyal Customer': '#FA8072',\n",
    "    'Business travel': '#FA8072', \n",
    "    'Personal Travel': '#FA8072', \n",
    "    'Eco': '#FA8072', \n",
    "    'Eco Plus': '#FA8072',\n",
    "    'Business': '#FA8072',\n",
    "    'satisfied': '#FA8072', \n",
    "    'neutral or dissatisfied': '#FA8072'\n",
    "}\n",
    "\n",
    "results_numerical_categorical_custom_colors = {}\n",
    "for numeric_var in ['Age', 'Flight Distance', 'Departure Delay in Minutes', 'Arrival Delay in Minutes']:\n",
    "    for categorical_var in ['Gender', 'Customer Type', 'Type of Travel', 'Class', 'satisfaction']:\n",
    "        test, p_value = analyze_numeric_categorical_custom_colors(data, numeric_var, categorical_var, custom_palette)\n",
    "        results_numerical_categorical_custom_colors[f'{numeric_var} vs {categorical_var}'] = {'Test': test, 'p-value': p_value}\n",
    "\n",
    "results_numerical_categorical_custom_colors\n"
   ]
  },
  {
   "cell_type": "markdown",
   "id": "20be2c4e",
   "metadata": {},
   "source": [
    "# MODELS PREDICTIUS\n"
   ]
  },
  {
   "cell_type": "code",
   "execution_count": null,
   "id": "62fe9223-fb1d-426b-81c7-aa593e4bb4cc",
   "metadata": {},
   "outputs": [],
   "source": [
    "excluded_columns = []  \n",
    "excluded_columns.append(\"satisfaction\")  \n",
    "\n",
    "\n",
    "X = dades.drop(columns=excluded_columns + [\"satisfaction\"])\n",
    "y = dades[\"satisfaction\"]\n",
    "\n",
    "print(X)\n",
    "X_train, X_test, y_train, y_test = train_test_split(X, y, test_size=0.2, random_state=42)"
   ]
  },
  {
   "cell_type": "markdown",
   "id": "5e0f2983-feb0-4056-9a36-69eba89b0b33",
   "metadata": {},
   "source": [
    "TRAIN AND TEST SETS"
   ]
  },
  {
   "cell_type": "code",
   "execution_count": null,
   "id": "6fd9cdc3",
   "metadata": {},
   "outputs": [],
   "source": [
    "import pandas as pd\n",
    "from sklearn.model_selection import train_test_split\n",
    "from sklearn.ensemble import RandomForestRegressor\n",
    "from sklearn.metrics import mean_squared_error"
   ]
  },
  {
   "cell_type": "code",
   "execution_count": null,
   "id": "f147bb70",
   "metadata": {},
   "outputs": [],
   "source": [
    "dades['satisfaction'] = dades['satisfaction'].map({'neutral or dissatisfied': 0, 'satisfied': 1})\n",
    "print(dades['satisfaction'].value_counts())"
   ]
  },
  {
   "cell_type": "code",
   "execution_count": null,
   "id": "fd782e4b",
   "metadata": {},
   "outputs": [],
   "source": [
    "excluded_columns = []  \n",
    "excluded_columns.append(\"satisfaction\")  \n",
    "\n",
    "\n",
    "X = dades.drop(columns=excluded_columns + [\"satisfaction\"])\n",
    "y = dades[\"satisfaction\"]\n",
    "\n",
    "print(y)\n",
    "X_train, X_test, y_train, y_test = train_test_split(X, y, test_size=0.2, random_state=42)"
   ]
  },
  {
   "cell_type": "markdown",
   "id": "52b463e9",
   "metadata": {},
   "source": [
    "0: neutral or dissatisfied\n",
    "1: satisfied"
   ]
  },
  {
   "cell_type": "markdown",
   "id": "33022cab",
   "metadata": {},
   "source": [
    "### RANDOM FOREST"
   ]
  },
  {
   "cell_type": "code",
   "execution_count": null,
   "id": "d3efbbbf-b8e1-4a5e-a848-66cd341832f4",
   "metadata": {},
   "outputs": [],
   "source": [
    "from sklearn.model_selection import GridSearchCV\n",
    "from sklearn.ensemble import RandomForestRegressor\n",
    "\n",
    "param_grid = {\n",
    "    'n_estimators': [200, 250, 500, 1000],\n",
    "    'max_depth': [None, 5, 10, 15, 20],\n",
    "    'min_samples_split': [2, 5, 10, 20],\n",
    "    'bootstrap': [True, False]\n",
    "}\n",
    "\n",
    "rf_model = RandomForestRegressor(random_state=410)\n",
    "grid_search = GridSearchCV(estimator=rf_model, param_grid=param_grid, cv=5, scoring='neg_mean_squared_error', n_jobs=-1)\n",
    "\n",
    "grid_search.fit(X_train, y_train)\n",
    "\n",
    "best_params = grid_search.best_params_\n",
    "print(\"Mejores parámetros:\", best_params)\n",
    "\n",
    "best_rf_model = RandomForestRegressor(**best_params, random_state=410)\n",
    "\n",
    "best_rf_model.fit(X_train, y_train)\n",
    "y_pred = best_rf_model.predict(X_test)"
   ]
  },
  {
   "cell_type": "code",
   "execution_count": null,
   "id": "4121aeb8-06f4-48cb-8cbf-6dacc93dac45",
   "metadata": {},
   "outputs": [],
   "source": [
    "import numpy as np\n",
    "import pandas as pd\n",
    "import seaborn as sns\n",
    "import matplotlib.pyplot as plt\n",
    "from sklearn.metrics import confusion_matrix, precision_score, recall_score, f1_score\n",
    "\n",
    "umbral = 0.5\n",
    "y_pred_Rf = (y_pred > umbral).astype(int)\n",
    "\n",
    "conf_matrix = confusion_matrix(y_test, y_pred_Rf)\n",
    "categories = ['neutral or disatisfied', 'satisfied']\n",
    "conf_matrix_df = pd.DataFrame(conf_matrix, index=categories, columns=categories)\n",
    "\n",
    "class_accuracy = np.diag(conf_matrix) / np.sum(conf_matrix, axis=1)\n",
    "class_accuracy_percentage = [\"{:.2f}%\".format(acc * 100) for acc in class_accuracy]\n",
    "conf_matrix_df['Accuracy'] = class_accuracy_percentage\n",
    "conf_matrix_df"
   ]
  },
  {
   "cell_type": "code",
   "execution_count": null,
   "id": "b4abf8de-0d7d-446e-9a3f-783375971292",
   "metadata": {},
   "outputs": [],
   "source": [
    "from sklearn.metrics import accuracy_score\n",
    "from sklearn.metrics import precision_score\n",
    "from sklearn.metrics import recall_score\n",
    "from sklearn.metrics import f1_score\n",
    "accuracy_rf = accuracy_score(y_test, y_pred_Rf)\n",
    "print(\"Accuracy:\", accuracy_rf)\n",
    "precision_rf = precision_score(y_test, y_pred_Rf)\n",
    "recall_rf = recall_score(y_test, y_pred_Rf)\n",
    "f1_rf = f1_score(y_test, y_pred_Rf)\n",
    "print(\"Precision:\",precision_rf)\n",
    "print(\"Recall:\",recall_rf)\n",
    "print(\"F1 score:\",f1_rf)"
   ]
  },
  {
   "cell_type": "markdown",
   "id": "7cea9bee",
   "metadata": {},
   "source": [
    "### LGBM CLASSIFIER"
   ]
  },
  {
   "cell_type": "code",
   "execution_count": null,
   "id": "fe21ba08-fce4-4af7-8dc3-5b0cd1342521",
   "metadata": {},
   "outputs": [],
   "source": [
    "from sklearn.model_selection import GridSearchCV\n",
    "from lightgbm import LGBMClassifier\n",
    "\n",
    "\n",
    "param_grid = {\n",
    "    'n_estimators': [150,200,500],\n",
    "    'max_depth': [3, 5, 7],\n",
    "    'learning_rate': [0.01, 0.1, 0.2],\n",
    "    'subsample': [0.6, 0.8, 1.0],\n",
    "    'reg_alpha': [0.0, 0.1, 0.5],\n",
    "    'reg_lambda': [0.0, 0.1, 0.5]\n",
    "}\n",
    "\n",
    "\n",
    "lgbm_model = LGBMClassifier(random_state=410)\n",
    "grid_search = GridSearchCV(estimator=lgbm_model, param_grid=param_grid, cv=5, scoring='accuracy', n_jobs=-1)\n",
    "\n",
    "grid_search.fit(X_train, y_train)\n",
    "\n",
    "best_params = grid_search.best_params_\n",
    "print(\"Mejores parámetros:\", best_params)\n",
    "\n",
    "best_lgbm_model = LGBMClassifier(**best_params, random_state=410)\n",
    "\n",
    "best_lgbm_model.fit(X_train, y_train)\n",
    "y_pred_lgbm = best_lgbm_model.predict(X_test)"
   ]
  },
  {
   "cell_type": "code",
   "execution_count": null,
   "id": "9f820c82-4a3d-4536-9ee3-073e1f447389",
   "metadata": {},
   "outputs": [],
   "source": [
    "from lightgbm import LGBMClassifier\n",
    "\n",
    "lgbm_model = LGBMClassifier(n_estimators=200, max_depth=5, learning_rate=0.1, subsample=0.8,\n",
    "                            reg_alpha=0.0, reg_lambda=0.0, random_state=410)\n",
    "\n",
    "lgbm_model.fit(X_train, y_train)\n",
    "y_pred_lgbm = lgbm_model.predict(X_test)"
   ]
  },
  {
   "cell_type": "code",
   "execution_count": null,
   "id": "432da3be-cfd3-45b9-910e-55163fd75b78",
   "metadata": {},
   "outputs": [],
   "source": [
    "conf_matrix_lgbm = confusion_matrix(y_test, y_pred_lgbm)\n",
    "categories = ['neutral or dissatisfied', 'satisfied']\n",
    "\n",
    "conf_matrix_df = pd.DataFrame(conf_matrix_lgbm, index=categories, columns=categories)\n",
    "class_accuracy = np.diag(conf_matrix_lgbm) / np.sum(conf_matrix_lgbm, axis=1)\n",
    "\n",
    "class_accuracy_percentage = [\"{:.2f}%\".format(acc * 100) for acc in class_accuracy]\n",
    "conf_matrix_df['Accuracy'] = class_accuracy_percentage\n",
    "conf_matrix_df"
   ]
  },
  {
   "cell_type": "code",
   "execution_count": null,
   "id": "dc9c2871",
   "metadata": {},
   "outputs": [],
   "source": [
    "from sklearn.metrics import precision_score\n",
    "from sklearn.metrics import recall_score\n",
    "from sklearn.metrics import f1_score\n",
    "from sklearn.metrics import accuracy_score\n",
    "\n",
    "accuracy_lgbm = accuracy_score(y_test, y_pred_lgbm)\n",
    "print(\"Accuracy:\", accuracy_lgbm)\n",
    "\n",
    "precision_lgbm = precision_score(y_test, y_pred_lgbm)\n",
    "recall_lgbm = recall_score(y_test, y_pred_lgbm)\n",
    "f1_lgbm = f1_score(y_test, y_pred_lgbm)\n",
    "print(\"Precision:\",precision_lgbm)\n",
    "print(\"Recall:\",recall_lgbm)\n",
    "print(\"F1 Score:\",f1_lgbm)"
   ]
  },
  {
   "cell_type": "markdown",
   "id": "a79bb205",
   "metadata": {},
   "source": [
    "### EXTRA TREES CLASSIFIER"
   ]
  },
  {
   "cell_type": "code",
   "execution_count": null,
   "id": "e6de03ec-4b11-4709-88f6-7a3f67454e9b",
   "metadata": {},
   "outputs": [],
   "source": [
    "from sklearn.model_selection import GridSearchCV\n",
    "from sklearn.ensemble import ExtraTreesClassifier\n",
    "\n",
    "param_grid = {\n",
    "    'n_estimators': [50, 100, 150,200,500],  \n",
    "    'max_depth': [None, 10, 20],  \n",
    "    'criterion': ['gini', 'entropy'],  \n",
    "    'bootstrap': [True, False],  \n",
    "}\n",
    "\n",
    "\n",
    "extra_trees_model = ExtraTreesClassifier(random_state=410)\n",
    "grid_search = GridSearchCV(estimator=extra_trees_model, param_grid=param_grid, cv=5, scoring='accuracy', n_jobs=-1)\n",
    "\n",
    "grid_search.fit(X_train, y_train)\n",
    "\n",
    "best_params = grid_search.best_params_\n",
    "print(\"Mejores parámetros:\", best_params)\n",
    "\n",
    "best_extra_trees_model = ExtraTreesClassifier(**best_params, random_state=410)\n",
    "best_extra_trees_model.fit(X_train, y_train)\n",
    "y_pred_et = best_extra_trees_model.predict(X_test)\n"
   ]
  },
  {
   "cell_type": "code",
   "execution_count": null,
   "id": "d449afd3-fd2d-4486-9020-2bc0edcc7d5c",
   "metadata": {},
   "outputs": [],
   "source": [
    "import numpy as np\n",
    "import pandas as pd\n",
    "from sklearn.metrics import confusion_matrix\n",
    "\n",
    "conf_matrix_extratrees = confusion_matrix(y_test, y_pred_et)\n",
    "categories = ['neutral or dissatisfied', 'satisfied']\n",
    "conf_matrix_df = pd.DataFrame(conf_matrix_extratrees, index=categories, columns=categories)\n",
    "class_accuracy = np.diag(conf_matrix_extratrees) / np.sum(conf_matrix_extratrees, axis=1)\n",
    "\n",
    "class_accuracy_percentage = [\"{:.2f}%\".format(acc * 100) for acc in class_accuracy]\n",
    "conf_matrix_df['Accuracy'] = class_accuracy_percentage\n",
    "conf_matrix_df"
   ]
  },
  {
   "cell_type": "code",
   "execution_count": null,
   "id": "d002ae0f",
   "metadata": {},
   "outputs": [],
   "source": [
    "from sklearn.metrics import precision_score\n",
    "from sklearn.metrics import recall_score\n",
    "from sklearn.metrics import f1_score\n",
    "from sklearn.metrics import accuracy_score\n",
    "\n",
    "accuracy_et = accuracy_score(y_test, y_pred_et)\n",
    "print(\"Accuracy:\", accuracy_et)\n",
    "precision_et = precision_score(y_test, y_pred_et)\n",
    "recall_et = recall_score(y_test, y_pred_et)\n",
    "f1_et = f1_score(y_test, y_pred_et)\n",
    "print(\"Precision:\", precision_et)\n",
    "print(\"Recall:\", recall_et)\n",
    "print(\"F1 Score:\", f1_et)"
   ]
  },
  {
   "cell_type": "markdown",
   "id": "15490bd9",
   "metadata": {},
   "source": [
    "### BAGGING CLASSIFIER"
   ]
  },
  {
   "cell_type": "code",
   "execution_count": null,
   "id": "eb1f042a-1843-473b-8132-96b8a7682197",
   "metadata": {},
   "outputs": [],
   "source": [
    "from sklearn.model_selection import GridSearchCV\n",
    "from sklearn.ensemble import BaggingClassifier\n",
    "\n",
    "param_grid = {\n",
    "    'n_estimators': [50, 100, 150, 200, 500], \n",
    "    'max_samples': [0.5, 0.7, 1.0],  \n",
    "    'max_features': [0.5, 0.7, 1.0],  \n",
    "    'bootstrap': [True, False], \n",
    "    'bootstrap_features': [True, False] \n",
    "}\n",
    "\n",
    "\n",
    "bagging_model = BaggingClassifier(random_state=410)\n",
    "grid_search = GridSearchCV(estimator=bagging_model, param_grid=param_grid, cv=5, scoring='accuracy', n_jobs=-1)\n",
    "grid_search.fit(X_train, y_train)\n",
    "\n",
    "best_params = grid_search.best_params_\n",
    "print(\"Mejores parámetros:\", best_params)\n",
    "best_bagging_model = BaggingClassifier(**best_params, random_state=410)\n",
    "\n",
    "best_bagging_model.fit(X_train, y_train)\n",
    "y_pred_bg = best_bagging_model.predict(X_test)"
   ]
  },
  {
   "cell_type": "code",
   "execution_count": null,
   "id": "130d40ef-4ff8-4d6e-a15f-08f609938ed7",
   "metadata": {},
   "outputs": [],
   "source": [
    "import numpy as np\n",
    "import pandas as pd\n",
    "from sklearn.metrics import confusion_matrix\n",
    "\n",
    "conf_matrix_bagging = confusion_matrix(y_test, y_pred_bg)\n",
    "categories = ['neutral or dissatisfied', 'satisfied']\n",
    "conf_matrix_df = pd.DataFrame(conf_matrix_bagging, index=categories, columns=categories)\n",
    "class_accuracy = np.diag(conf_matrix_bagging) / np.sum(conf_matrix_bagging, axis=1)\n",
    "class_accuracy_percentage = [\"{:.2f}%\".format(acc * 100) for acc in class_accuracy]\n",
    "conf_matrix_df['Accuracy'] = class_accuracy_percentage\n",
    "conf_matrix_df"
   ]
  },
  {
   "cell_type": "code",
   "execution_count": null,
   "id": "fcec602c",
   "metadata": {},
   "outputs": [],
   "source": [
    "from sklearn.metrics import precision_score\n",
    "from sklearn.metrics import recall_score\n",
    "from sklearn.metrics import f1_score\n",
    "from sklearn.metrics import accuracy_score\n",
    "\n",
    "accuracy_bg = accuracy_score(y_test, y_pred_bg)\n",
    "print(\"Accuracy:\", accuracy_bg)\n",
    "\n",
    "precision_bg = precision_score(y_test, y_pred_bg)\n",
    "recall_bg = recall_score(y_test, y_pred_bg)\n",
    "f1_bg = f1_score(y_test, y_pred_bg)\n",
    "print(\"Precision:\",precision_bg)\n",
    "print(\"Recall:\",recall_bg)\n",
    "print(\"F1 score\",f1_bg)"
   ]
  },
  {
   "cell_type": "markdown",
   "id": "18435ff7",
   "metadata": {},
   "source": [
    "### DECISION TREE"
   ]
  },
  {
   "cell_type": "code",
   "execution_count": null,
   "id": "5ebfd058-fb48-460d-8a9b-102ca9a57527",
   "metadata": {},
   "outputs": [],
   "source": [
    "from sklearn.model_selection import GridSearchCV\n",
    "from sklearn.tree import DecisionTreeClassifier\n",
    "\n",
    "param_grid = {\n",
    "    'max_depth': [None, 5, 10, 15,20],  \n",
    "    'min_samples_split': [2, 5, 10],  \n",
    "    'min_samples_leaf': [1, 2, 4],  \n",
    "    'criterion': ['gini', 'entropy'],  \n",
    "    'max_features': ['auto', 'sqrt', 'log2'],  \n",
    "    'max_leaf_nodes': [None, 5, 10, 20] \n",
    "}\n",
    "\n",
    "decision_tree_model = DecisionTreeClassifier(random_state=410)\n",
    "\n",
    "grid_search = GridSearchCV(estimator=decision_tree_model, param_grid=param_grid, cv=5, scoring='accuracy', n_jobs=-1)\n",
    "\n",
    "grid_search.fit(X_train, y_train)\n",
    "\n",
    "best_params = grid_search.best_params_\n",
    "print(\"Mejores parámetros:\", best_params)\n",
    "best_decision_tree_model = DecisionTreeClassifier(**best_params, random_state=410)\n",
    "\n",
    "best_decision_tree_model.fit(X_train, y_train)\n",
    "y_pred_Dt = best_decision_tree_model.predict(X_test)\n"
   ]
  },
  {
   "cell_type": "code",
   "execution_count": null,
   "id": "9dcda35e-44fe-4d2d-aa60-9e14e5cf1332",
   "metadata": {},
   "outputs": [],
   "source": [
    "import numpy as np\n",
    "import pandas as pd\n",
    "from sklearn.metrics import confusion_matrix\n",
    "\n",
    "conf_matrix_dt = confusion_matrix(y_test, y_pred_Dt)\n",
    "categories = ['neutral or dissatisfied', 'satisfied']\n",
    "\n",
    "conf_matrix_df = pd.DataFrame(conf_matrix_dt, index=categories, columns=categories)\n",
    "class_accuracy = np.diag(conf_matrix_dt) / np.sum(conf_matrix_dt, axis=1)\n",
    "class_accuracy_percentage = [\"{:.2f}%\".format(acc * 100) for acc in class_accuracy]\n",
    "conf_matrix_df['Accuracy'] = class_accuracy_percentage\n",
    "conf_matrix_df"
   ]
  },
  {
   "cell_type": "code",
   "execution_count": null,
   "id": "fc9a24a4",
   "metadata": {},
   "outputs": [],
   "source": [
    "from sklearn.metrics import precision_score\n",
    "from sklearn.metrics import recall_score\n",
    "from sklearn.metrics import f1_score\n",
    "\n",
    "from sklearn.metrics import accuracy_score\n",
    "\n",
    "accuracy_dt = accuracy_score(y_test, y_pred_Dt)\n",
    "print(\"Accuracy:\", accuracy_dt)\n",
    "precision_dt = precision_score(y_test, y_pred_Dt)\n",
    "recall_dt = recall_score(y_test, y_pred_Dt)\n",
    "f1_dt = f1_score(y_test, y_pred_Dt)\n",
    "print(\"Precision:\",precision_dt)\n",
    "print(\"Recall:\",recall_dt)\n",
    "print(\"F1 Score:\",f1_dt)"
   ]
  },
  {
   "cell_type": "markdown",
   "id": "1921ad16",
   "metadata": {},
   "source": [
    "**XARXES NEURONALS**"
   ]
  },
  {
   "cell_type": "code",
   "execution_count": null,
   "id": "eca7d102",
   "metadata": {},
   "outputs": [],
   "source": [
    "import numpy as np\n",
    "import pandas as pd\n",
    "from keras.models import Sequential  \n",
    "from keras.layers import Dense\n",
    "from sklearn.metrics import accuracy_score, precision_score, recall_score, f1_score, confusion_matrix\n",
    "import matplotlib.pyplot as plt\n",
    "import seaborn as sns\n",
    "\n",
    "np.random.seed(410)\n",
    "\n",
    "model = Sequential([\n",
    "    Dense(128, activation='relu', kernel_initializer='random_uniform', input_shape=(X_train.shape[1],)),\n",
    "    Dense(64, activation='relu', kernel_initializer='random_uniform'),\n",
    "    Dense(1, activation='sigmoid', kernel_initializer='random_uniform')\n",
    "])\n",
    "\n",
    "model.compile(optimizer='adam', loss='binary_crossentropy', metrics=['accuracy'])\n",
    "history = model.fit(X_train, y_train, epochs=100, batch_size=64, verbose=1, validation_data=(X_test, y_test))\n",
    "y_pred_nn = model.predict(X_test)\n",
    "y_pred_nn = (y_pred > 0.5).astype(int)\n",
    "\n",
    "\n",
    "\n",
    "accuracy = accuracy_score(y_test, y_pred_nn)\n",
    "precision = precision_score(y_test, y_pred_nn)\n",
    "recall = recall_score(y_test, y_pred_nn)\n",
    "f1 = f1_score(y_test, y_pred_nn)\n",
    "conf_matrix = confusion_matrix(y_test, y_pred_nn)\n",
    "mse = mean_squared_error(y_test, y_pred_nn)\n",
    "\n",
    "print(\"Exactitud (Accuracy):\", accuracy)\n",
    "print(\"Precisión (Precision):\", precision)\n",
    "print(\"Recall:\", recall)\n",
    "print(\"F1-score:\", f1)\n",
    "print(\"MSE:\",mse)"
   ]
  },
  {
   "cell_type": "code",
   "execution_count": null,
   "id": "1ac2d8b2",
   "metadata": {},
   "outputs": [],
   "source": [
    "conf_matrix_nn = confusion_matrix(y_test,y_pred_nn)\n",
    "categories = [\"neutral or disatisfied\",\"satisfied\"]\n",
    "conf_matrix_nn = pd.DataFrame(conf_matrix_nn, index=categories, columns=categories)\n",
    "conf_matrix_nn"
   ]
  },
  {
   "cell_type": "code",
   "execution_count": null,
   "id": "e2fd7969",
   "metadata": {},
   "outputs": [],
   "source": [
    "color_blue=\"#1f77b4\"\n",
    "color_coral=\"#FA8072\"\n",
    "\n",
    "plt.figure(figsize=(8, 6))\n",
    "sns.set_palette(\"Set2\")\n",
    "plt.plot(history.history['accuracy'], label='Accuracy (Training)',color=color_blue)\n",
    "plt.plot(history.history['val_accuracy'], label='Accuracy (Validation)',color=color_coral)\n",
    "plt.title('Corba d\\'aprenentatge de la xarxa neuronal (Accuracy)')\n",
    "plt.xlabel('Epoch')\n",
    "plt.ylabel('Accuracy')\n",
    "plt.legend()\n",
    "plt.show()"
   ]
  },
  {
   "cell_type": "code",
   "execution_count": null,
   "id": "46743a4a",
   "metadata": {},
   "outputs": [],
   "source": [
    "color_blue=\"#1f77b4\"\n",
    "color_coral=\"#FA8072\"\n",
    "\n",
    "plt.figure(figsize=(8, 6))\n",
    "sns.set_palette(\"Set2\")\n",
    "plt.plot(history.history['loss'], label='Loss (Training)',color=color_blue)\n",
    "plt.plot(history.history['val_loss'], label='Loss (Validation)',color=color_coral)\n",
    "plt.title('Corba d\\'aprenentatge de la xarxa neuronal (Loss)')\n",
    "plt.xlabel('Epoch')\n",
    "plt.ylabel('Loss')\n",
    "plt.legend()\n",
    "plt.show()"
   ]
  },
  {
   "cell_type": "markdown",
   "id": "3c3568e8-92d5-4416-b9e9-3d55b7b34646",
   "metadata": {},
   "source": [
    "ENSEMBLE"
   ]
  },
  {
   "cell_type": "code",
   "execution_count": null,
   "id": "fa2871d6-9ffb-4fd4-aa8b-12c024933fa8",
   "metadata": {},
   "outputs": [],
   "source": [
    "from collections import Counter\n",
    "\n",
    "def voting_ensemble(*predictions):\n",
    "    ensemble_predictions = []\n",
    "    for instance_predictions in zip(*predictions):\n",
    "        counts = Counter(instance_predictions)\n",
    "        majority_vote = counts.most_common(1)[0][0]\n",
    "        ensemble_predictions.append(majority_vote)\n",
    "    return ensemble_predictions\n",
    "\n",
    "\n",
    "ensemble_predictions = voting_ensemble(y_pred_et, y_pred_Rf, y_pred_bg,y_pred_Dt)"
   ]
  },
  {
   "cell_type": "code",
   "execution_count": null,
   "id": "91989297-7881-43b4-80d1-958266b66747",
   "metadata": {},
   "outputs": [],
   "source": [
    "import numpy as np\n",
    "import pandas as pd\n",
    "from sklearn.metrics import confusion_matrix\n",
    "\n",
    "conf_matrix_dt = confusion_matrix(y_test, y_pred_Dt)\n",
    "categories = ['neutral or dissatisfied', 'satisfied']\n",
    "\n",
    "conf_matrix_df = pd.DataFrame(conf_matrix_dt, index=categories, columns=categories)\n",
    "class_accuracy = np.diag(conf_matrix_dt) / np.sum(conf_matrix_dt, axis=1)\n",
    "class_accuracy_percentage = [\"{:.2f}%\".format(acc * 100) for acc in class_accuracy]\n",
    "conf_matrix_df['Accuracy'] = class_accuracy_percentage\n",
    "conf_matrix_df"
   ]
  },
  {
   "cell_type": "code",
   "execution_count": null,
   "id": "5c52a33a-f2d4-4fb8-9e85-24b3a3cffe20",
   "metadata": {},
   "outputs": [],
   "source": [
    "from sklearn.metrics import accuracy_score, confusion_matrix\n",
    "\n",
    "accuracy_en = accuracy_score(y_test, ensemble_predictions)\n",
    "print(\"Accuracy del ensemble:\", accuracy_en)\n",
    "precision_en = precision_score(y_test, ensemble_predictions)\n",
    "recall_en = recall_score(y_test, ensemble_predictions)\n",
    "f1_en = f1_score(y_test, ensemble_predictions)\n",
    "\n",
    "print(\"Precisió del ensemble:\",precision_en)\n",
    "print(\"Recall del ensemble:\",recall_en)\n",
    "print(\"F1 Score del ensemble:\",f1_en)\n",
    "conf_matrix = confusion_matrix(y_test, ensemble_predictions)\n",
    "categories = ['neutral or dissatisfied', 'satisfied']\n",
    "\n",
    "\n",
    "conf_matrix_df = confusion_matrix(y_test, ensemble_predictions)\n",
    "categories = ['neutral or dissatisfied', 'satisfied']\n",
    "\n",
    "conf_matrix_df = pd.DataFrame(conf_matrix_df, index=categories, columns=categories)\n",
    "\n",
    "class_accuracy = np.diag(conf_matrix_df) / np.sum(conf_matrix_df, axis=1)\n",
    "class_accuracy_percentage = [\"{:.2f}%\".format(acc * 100) for acc in class_accuracy]\n",
    "\n",
    "conf_matrix_df['Accuracy'] = class_accuracy_percentage\n",
    "\n",
    "conf_matrix_df"
   ]
  },
  {
   "cell_type": "code",
   "execution_count": null,
   "id": "ba9db791",
   "metadata": {},
   "outputs": [],
   "source": [
    "import pandas as pd\n",
    "\n",
    "datos = {'Accuracy': [accuracy_rf, accuracy_lgbm, accuracy_et, accuracy_bg, accuracy_dt, 0.9297536566589685,accuracy_en],\n",
    "         'Precision': [precision_rf, precision_lgbm, precision_et, precision_bg, precision_dt, 0.9294171220400729,precision_en],\n",
    "         'Recall': [recall_rf, recall_lgbm, recall_et, recall_bg, recall_dt, 0.9067081297201244,recall_en],\n",
    "         'F1 score': [f1_rf, f1_lgbm, f1_et, f1_bg, f1_dt, 0.91792219473802570,f1_en\n",
    "]}\n",
    "\n",
    "nombres_filas = ['RANDOM FOREST', 'LGBM CLASSIFIER', 'EXTRA TREES', 'BAGGING', 'DECISION TREE', 'NEURAL NETWORKS',\"ENSEMBLE\"]\n",
    "df = pd.DataFrame(datos, index=nombres_filas)\n",
    "\n",
    "print(df)"
   ]
  },
  {
   "cell_type": "markdown",
   "id": "e6c6c7db",
   "metadata": {},
   "source": [
    "# SHAP VALUES"
   ]
  },
  {
   "cell_type": "code",
   "execution_count": null,
   "id": "76408b91-e56a-4973-a097-71efd1d3b76a",
   "metadata": {},
   "outputs": [],
   "source": [
    "from sklearn.model_selection import train_test_split\n",
    "from sklearn.preprocessing import StandardScaler, OneHotEncoder\n",
    "from sklearn.compose import ColumnTransformer\n",
    "from sklearn.pipeline import Pipeline\n",
    "from sklearn.impute import SimpleImputer\n",
    "from sklearn.ensemble import RandomForestClassifier\n",
    "import pandas as pd"
   ]
  },
  {
   "cell_type": "code",
   "execution_count": null,
   "id": "fc14c3e8-5e6c-420f-b294-aaa9098effc8",
   "metadata": {},
   "outputs": [],
   "source": [
    "import pandas as pd\n",
    "import numpy as np\n",
    "from sklearn.model_selection import train_test_split\n",
    "from sklearn.pipeline import Pipeline\n",
    "from sklearn.impute import SimpleImputer\n",
    "from sklearn.preprocessing import StandardScaler, OneHotEncoder\n",
    "from sklearn.compose import ColumnTransformer\n",
    "from sklearn.ensemble import RandomForestClassifier\n",
    "\n",
    "X = pd.DataFrame(X)\n",
    "\n",
    "numeric_columns = X.select_dtypes(include=['int64', 'float64']).columns\n",
    "categorical_columns = X.select_dtypes(include=['object']).columns\n",
    "\n",
    "numeric_transformer = Pipeline(steps=[\n",
    "    ('imputer', SimpleImputer(strategy='median')),\n",
    "    ('scaler', StandardScaler())])\n",
    "\n",
    "categorical_transformer = Pipeline(steps=[\n",
    "    ('imputer', SimpleImputer(strategy='constant', fill_value='missing')),\n",
    "    ('onehot', OneHotEncoder(handle_unknown='ignore'))])\n",
    "\n",
    "preprocessor = ColumnTransformer(\n",
    "    transformers=[\n",
    "        ('num', numeric_transformer, numeric_columns),\n",
    "        ('cat', categorical_transformer, categorical_columns)])\n",
    "\n",
    "X_train, X_test, y_train, y_test = train_test_split(X, y, test_size=0.2, random_state=42)\n",
    "\n",
    "rf_classifier = LGBMClassifier()\n",
    "\n",
    "model_pipeline = Pipeline(steps=[('preprocessor', preprocessor),\n",
    "                                 ('classifier', rf_classifier)])\n",
    "\n",
    "model_pipeline.fit(X_train, y_train)"
   ]
  },
  {
   "cell_type": "code",
   "execution_count": null,
   "id": "3cb3b205-bbb6-4595-adf9-c9e5b5dc7c3d",
   "metadata": {},
   "outputs": [],
   "source": [
    "y_pred = model_pipeline.predict(X_test)\n",
    "print(classification_report(y_pred, y_test))"
   ]
  },
  {
   "cell_type": "code",
   "execution_count": null,
   "id": "a2a01ae6-e3aa-4823-b532-98f707bf84df",
   "metadata": {},
   "outputs": [],
   "source": [
    "import shap\n",
    "explainer = shap.Explainer(model_pipeline.named_steps['classifier'])"
   ]
  },
  {
   "cell_type": "code",
   "execution_count": null,
   "id": "5cd61246-aed9-4475-bbd7-4cd98ef525ae",
   "metadata": {},
   "outputs": [],
   "source": [
    "X_test_encoded = pd.get_dummies(X_test)\n",
    "X_test_encoded"
   ]
  },
  {
   "cell_type": "code",
   "execution_count": null,
   "id": "ce95326c-e149-4403-8304-a6aa8302ceb5",
   "metadata": {},
   "outputs": [],
   "source": [
    "shap_values = explainer.shap_values(X_test_encoded)\n",
    "print(shap_values)"
   ]
  },
  {
   "cell_type": "markdown",
   "id": "565b5706",
   "metadata": {},
   "source": [
    "Quan es prediu 1 (satisfied)"
   ]
  },
  {
   "cell_type": "code",
   "execution_count": null,
   "id": "c7f75023",
   "metadata": {},
   "outputs": [],
   "source": [
    "import numpy as np\n",
    "\n",
    "categorias_unicas = np.unique(y)\n",
    "nombre_categoria = categorias_unicas[0]  \n",
    "print(\"Nombre de la categoría:\", nombre_categoria)\n"
   ]
  },
  {
   "cell_type": "code",
   "execution_count": null,
   "id": "d1d862a4-4435-4f76-93a7-c48b14f7e5ac",
   "metadata": {},
   "outputs": [],
   "source": [
    "import shap\n",
    "import numpy as np\n",
    "import matplotlib.pyplot as plt\n",
    "\n",
    "shap.summary_plot(shap_values[0], X_test_encoded, show=False)\n",
    "plt.rcParams.update({'axes.facecolor': 'white', 'figure.facecolor': 'white'})\n",
    "plt.grid(False)\n",
    "\n",
    "x_min = np.min(shap_values[0])\n",
    "x_max = np.max(shap_values[0])\n",
    "\n",
    "step = 0.3  \n",
    "ticks = np.arange(x_min, x_max + step, step)\n",
    "\n",
    "plt.xticks(ticks=ticks, fontsize=8, rotation=90)\n",
    "plt.gcf().set_size_inches(12, 6)  \n",
    "plt.title(\"Predicció Satisfied\", fontsize=16)\n",
    "plt.show()"
   ]
  },
  {
   "cell_type": "markdown",
   "id": "1a24a80a",
   "metadata": {},
   "source": [
    "Quan es prediu 0 (neutral or dissatisfied)"
   ]
  },
  {
   "cell_type": "code",
   "execution_count": null,
   "id": "3c538a9b",
   "metadata": {},
   "outputs": [],
   "source": [
    "import numpy as np\n",
    "\n",
    "categorias_unicas = np.unique(y)\n",
    "nombre_categoria = categorias_unicas[1]  \n",
    "print(\"Nombre de la categoría:\", nombre_categoria)"
   ]
  },
  {
   "cell_type": "code",
   "execution_count": null,
   "id": "6002b749",
   "metadata": {},
   "outputs": [],
   "source": [
    "import shap\n",
    "import numpy as np\n",
    "import matplotlib.pyplot as plt\n",
    "\n",
    "import shap\n",
    "import numpy as np\n",
    "import matplotlib.pyplot as plt\n",
    "\n",
    "shap.summary_plot(shap_values[1], X_test_encoded, show=False)\n",
    "plt.rcParams.update({'axes.facecolor': 'white', 'figure.facecolor': 'white'})\n",
    "plt.grid(False)\n",
    "\n",
    "x_min = np.min(shap_values[1])\n",
    "x_max = np.max(shap_values[1])\n",
    "\n",
    "step = 0.3  \n",
    "ticks = np.arange(x_min, x_max + step, step)\n",
    "\n",
    "plt.xticks(ticks=ticks, fontsize=8, rotation=90)\n",
    "plt.gcf().set_size_inches(12, 6)  \n",
    "plt.title(\"Predicció Neutral or dissatisfied\", fontsize=16)\n",
    "plt.show()"
   ]
  },
  {
   "cell_type": "markdown",
   "id": "4453d6b0",
   "metadata": {},
   "source": [
    "TOTES LES CATEGORIES:"
   ]
  },
  {
   "cell_type": "code",
   "execution_count": null,
   "id": "a814dd42",
   "metadata": {},
   "outputs": [],
   "source": [
    "import matplotlib.pyplot as plt\n",
    "import numpy as np\n",
    "\n",
    "category_colors = ['#FA8072', 'skyblue'] \n",
    "\n",
    "fig, ax = plt.subplots(figsize=(10, 8))\n",
    "\n",
    "bar_width = 0.4\n",
    "n_categories = len(shap_values)  \n",
    "n_features = len(X_test_encoded.columns) \n",
    "bar_positions = np.arange(n_features)  \n",
    "\n",
    "for i, (shap_val, color) in enumerate(zip(shap_values, category_colors)):\n",
    "    shifted_positions = bar_positions + (i - (n_categories - 1) / 2) * bar_width\n",
    "    ax.barh(shifted_positions, shap_val.mean(0), color=color, alpha=0.5, label=f'Category {i+1}', height=bar_width)\n",
    "\n",
    "ax.set_yticks(bar_positions)\n",
    "ax.set_yticklabels(X_test_encoded.columns)\n",
    "\n",
    "ax.set_title(\"SHAP Values for Different Categories\")\n",
    "ax.legend()\n",
    "ax.grid(False)\n",
    "plt.tight_layout()\n",
    "plt.show()"
   ]
  }
 ],
 "metadata": {
  "kernelspec": {
   "display_name": "Python 3 (ipykernel)",
   "language": "python",
   "name": "python3"
  },
  "language_info": {
   "codemirror_mode": {
    "name": "ipython",
    "version": 3
   },
   "file_extension": ".py",
   "mimetype": "text/x-python",
   "name": "python",
   "nbconvert_exporter": "python",
   "pygments_lexer": "ipython3",
   "version": "3.11.7"
  }
 },
 "nbformat": 4,
 "nbformat_minor": 5
}
